{
 "cells": [
  {
   "cell_type": "markdown",
   "id": "04672a84-a281-48fb-be1a-15b1cee9ba87",
   "metadata": {},
   "source": [
    "# Data Exploration and Run Experiments Locally"
   ]
  },
  {
   "cell_type": "markdown",
   "id": "07f7eb45-5072-4960-a405-1f3e29771cc3",
   "metadata": {},
   "source": [
    "### Objective\n",
    "\n",
    "Make forecasts of NDVI (Normalized Difference Vegetation Index) from past time series data from EE. Along with past NDVI, additional regressors such as precipitation\n",
    "\n",
    "**NOTE:** NDVI is typically used to determine the density of green on a patch of land. The values off NDVI range from -1 to +1 [Ref](https://gisgeography.com/ndvi-normalized-difference-vegetation-index/).\n",
    "- NDVI negative    --> highly likely it’s water\n",
    "- NDVI close to +1 --> dense green leaves\n",
    "- NDVI close to 0  --> No green leaves (maybe urbanized or dry lands)"
   ]
  },
  {
   "cell_type": "code",
   "execution_count": 22,
   "id": "8ed96731-0523-4c67-b67c-0e6a2847cdbb",
   "metadata": {},
   "outputs": [],
   "source": [
    "# core\n",
    "import datetime\n",
    "\n",
    "# earth engine related\n",
    "import ee\n",
    "import geemap\n",
    "\n",
    "# analysis\n",
    "import numpy as np\n",
    "import pandas as pd\n",
    "from pandas.tseries.offsets import MonthEnd\n",
    "\n",
    "# plotting related\n",
    "import matplotlib.pyplot as plt\n",
    "import matplotlib.dates as mdates\n",
    "from IPython.display import Image\n",
    "from matplotlib import dates\n",
    "import seaborn as sns\n",
    "\n",
    "# google cloud\n",
    "from google.cloud import bigquery as bq\n",
    "from google.cloud import storage as gcs"
   ]
  },
  {
   "cell_type": "code",
   "execution_count": 2,
   "id": "ed354a0f-7855-41b9-b8c5-f9a82c6bbb97",
   "metadata": {},
   "outputs": [],
   "source": [
    "ee.Initialize()"
   ]
  },
  {
   "cell_type": "markdown",
   "id": "a5374ec7-ab0c-48e3-9c16-b43e1d8235c8",
   "metadata": {},
   "source": [
    "## Select and explore region of interest"
   ]
  },
  {
   "cell_type": "code",
   "execution_count": 3,
   "id": "da7d96ae-af36-4eef-a7ea-a72aa7f7e1f5",
   "metadata": {},
   "outputs": [],
   "source": [
    "Map = geemap.Map(center=[40,-100], zoom=4)"
   ]
  },
  {
   "cell_type": "code",
   "execution_count": 4,
   "id": "6c8b3fa8-b974-4025-90a0-72d69abd2cab",
   "metadata": {},
   "outputs": [],
   "source": [
    "# Set start and end date\n",
    "start_time = datetime.datetime(2015, 1, 1)\n",
    "end_time = datetime.datetime(2019, 12, 31)"
   ]
  },
  {
   "cell_type": "code",
   "execution_count": 5,
   "id": "399c931f-7aab-461e-a12c-a0244ea9d5de",
   "metadata": {},
   "outputs": [
    {
     "name": "stdout",
     "output_type": "stream",
     "text": [
      "lng = -119.12690096102168, lat = 35.22187222632513\n"
     ]
    }
   ],
   "source": [
    "# Add Earth Engine dataset\n",
    "# USDA NAIP ImageCollection\n",
    "naip_collection = ee.ImageCollection('USDA/NAIP/DOQQ')\n",
    "\n",
    "# create an roi\n",
    "# e.g. Bakersfield, CA\n",
    "polys = ee.Geometry.Polygon(\n",
    "        [[[-119.233602, 35.293567], \n",
    "          [-119.234022, 35.15474], \n",
    "          [-118.999776, 35.154268], \n",
    "          [-119.042154, 35.294108], \n",
    "          [-119.233602, 35.293567]]])\n",
    "\n",
    "# create a FeatureCollection based on the roi and center the map\n",
    "centroid = polys.centroid()\n",
    "lng, lat = centroid.getInfo()['coordinates']\n",
    "print(\"lng = {}, lat = {}\".format(lng, lat))\n",
    "Map.setCenter(lng, lat, 12)\n",
    "fc = ee.FeatureCollection(polys)"
   ]
  },
  {
   "cell_type": "code",
   "execution_count": 6,
   "id": "cedaddc6-a44f-4355-b10e-62e1b21becdf",
   "metadata": {},
   "outputs": [
    {
     "name": "stdout",
     "output_type": "stream",
     "text": [
      "Count:  26\n"
     ]
    }
   ],
   "source": [
    "# filter the ImageCollection using the roi\n",
    "naip = naip_collection.filterBounds(polys).filterDate(start_time, end_time)\n",
    "\n",
    "# print out the number of images in the ImageCollection\n",
    "count = naip.size().getInfo()\n",
    "print(\"Count: \", count)\n",
    "\n",
    "# add the ImageCollection and the roi to the map\n",
    "vis = {'bands': ['N', 'R', 'G']}\n",
    "Map.addLayer(naip)\n",
    "Map.addLayer(fc)"
   ]
  },
  {
   "cell_type": "code",
   "execution_count": 7,
   "id": "eb0ef51a-3b60-4eb1-b898-d7166cb27d66",
   "metadata": {},
   "outputs": [
    {
     "data": {
      "application/vnd.jupyter.widget-view+json": {
       "model_id": "82a8227cddb34d968acf3a2b48176b68",
       "version_major": 2,
       "version_minor": 0
      },
      "text/plain": [
       "Map(center=[35.22187222632513, -119.12690096102168], controls=(WidgetControl(options=['position', 'transparent…"
      ]
     },
     "metadata": {},
     "output_type": "display_data"
    }
   ],
   "source": [
    "Map"
   ]
  },
  {
   "cell_type": "markdown",
   "id": "1211fb9d-8ed3-41fb-a79e-d849f6fe4f5a",
   "metadata": {},
   "source": [
    "## Explore NDVI and precipitation data\n",
    "\n",
    "- [PROBA-V C1 Top Of Canopy Daily Synthesis 100m](https://developers.google.com/earth-engine/datasets/catalog/VITO_PROBAV_C1_S1_TOC_100M) to map land cover and vegetation growth\n",
    "- [USGS Landsat 8 Collection 1](https://developers.google.com/earth-engine/datasets/catalog/LANDSAT_LC08_C01_T1_RT?hl=en) to derive [NDVI](https://www.usgs.gov/landsat-missions/landsat-normalized-difference-vegetation-index) from Red and Near Infrared bands\n",
    "- [CHIRPS Pentad: Climate Hazards Group InfraRed Precipitation](https://developers.google.com/earth-engine/datasets/catalog/UCSB-CHG_CHIRPS_PENTAD?hl=en)"
   ]
  },
  {
   "cell_type": "markdown",
   "id": "a8227d9c-8689-4d3f-a56c-5b358e5b7764",
   "metadata": {},
   "source": [
    "### NDVI from Landsat 8 imagery"
   ]
  },
  {
   "cell_type": "code",
   "execution_count": 8,
   "id": "ba713ab8-9be7-4ce9-965f-002622b817aa",
   "metadata": {},
   "outputs": [],
   "source": [
    "landsat8 = ee.ImageCollection('LANDSAT/LC08/C01/T1_RT').filterDate(start_time, end_time).select(['B5',u'B4'])\n",
    "\n",
    "# retrieve info over region of interest with resolution of 500m\n",
    "info_landsat8 = landsat8.getRegion(polys, 500).getInfo()"
   ]
  },
  {
   "cell_type": "code",
   "execution_count": 9,
   "id": "c88dada2-f43c-48a5-84fb-d6d29a32bb2d",
   "metadata": {},
   "outputs": [
    {
     "data": {
      "text/plain": [
       "[['id', 'longitude', 'latitude', 'time', 'B5', 'B4'],\n",
       " ['LC08_041036_20150127',\n",
       "  -119.2311418729738,\n",
       "  35.157814432227774,\n",
       "  1422383297340,\n",
       "  7892,\n",
       "  7397]]"
      ]
     },
     "execution_count": 9,
     "metadata": {},
     "output_type": "execute_result"
    }
   ],
   "source": [
    "# sample data\n",
    "info_landsat8[:2]"
   ]
  },
  {
   "cell_type": "code",
   "execution_count": 32,
   "id": "1d6823fe-5e8a-42b7-b869-28f0fa23a1d2",
   "metadata": {},
   "outputs": [],
   "source": [
    "def convert_to_pandas_df(info, band_list):\n",
    "    \"\"\" convert region info as dataframe\n",
    "    \"\"\"\n",
    "    header = info[0]\n",
    "    data = np.array(info[1:])\n",
    "    idx_time = header.index('time')\n",
    "    time = [datetime.datetime.fromtimestamp(i/1000) for i in (data[0:,idx_time].astype(int))]\n",
    "\n",
    "    bands = [header.index(b) for b in band_list]\n",
    "    band_data = data[0:, bands]\n",
    "    df = pd.DataFrame(data=band_data, index=time, columns=band_list).dropna()\n",
    "    return df"
   ]
  },
  {
   "cell_type": "code",
   "execution_count": 74,
   "id": "7e2b5fea-d138-4b15-b0b4-fd3265a175e1",
   "metadata": {},
   "outputs": [],
   "source": [
    "df_landsat8 = convert_to_pandas_df(info_landsat8, ['B5','B4'])\n",
    "df_landsat8[['B5','B4']] = df_landsat8[['B5','B4']].astype(np.float)"
   ]
  },
  {
   "cell_type": "code",
   "execution_count": 75,
   "id": "309e40f3-8352-4990-9223-c77013b47c7a",
   "metadata": {},
   "outputs": [],
   "source": [
    "# calculate NDVI\n",
    "# https://www.usgs.gov/landsat-missions/landsat-normalized-difference-vegetation-index\n",
    "df_landsat8['ndvi'] = (df_landsat8['B5'] - df_landsat8['B4']) / (df_landsat8['B5'] + df_landsat8['B4'])"
   ]
  },
  {
   "cell_type": "code",
   "execution_count": 76,
   "id": "c4422e84-4184-4dc1-9dea-f17c561a8eb3",
   "metadata": {},
   "outputs": [
    {
     "data": {
      "text/html": [
       "<div>\n",
       "<style scoped>\n",
       "    .dataframe tbody tr th:only-of-type {\n",
       "        vertical-align: middle;\n",
       "    }\n",
       "\n",
       "    .dataframe tbody tr th {\n",
       "        vertical-align: top;\n",
       "    }\n",
       "\n",
       "    .dataframe thead th {\n",
       "        text-align: right;\n",
       "    }\n",
       "</style>\n",
       "<table border=\"1\" class=\"dataframe\">\n",
       "  <thead>\n",
       "    <tr style=\"text-align: right;\">\n",
       "      <th></th>\n",
       "      <th>B5</th>\n",
       "      <th>B4</th>\n",
       "      <th>ndvi</th>\n",
       "    </tr>\n",
       "  </thead>\n",
       "  <tbody>\n",
       "    <tr>\n",
       "      <th>2015-01-27 18:28:17.340</th>\n",
       "      <td>7892.0</td>\n",
       "      <td>7397.0</td>\n",
       "      <td>0.032376</td>\n",
       "    </tr>\n",
       "    <tr>\n",
       "      <th>2015-02-28 18:28:06.520</th>\n",
       "      <td>10835.0</td>\n",
       "      <td>9487.0</td>\n",
       "      <td>0.066332</td>\n",
       "    </tr>\n",
       "    <tr>\n",
       "      <th>2015-03-16 18:27:55.590</th>\n",
       "      <td>16125.0</td>\n",
       "      <td>12835.0</td>\n",
       "      <td>0.113605</td>\n",
       "    </tr>\n",
       "    <tr>\n",
       "      <th>2015-04-01 18:27:44.040</th>\n",
       "      <td>14303.0</td>\n",
       "      <td>8713.0</td>\n",
       "      <td>0.242875</td>\n",
       "    </tr>\n",
       "    <tr>\n",
       "      <th>2015-04-17 18:27:43.020</th>\n",
       "      <td>20016.0</td>\n",
       "      <td>10138.0</td>\n",
       "      <td>0.327585</td>\n",
       "    </tr>\n",
       "  </tbody>\n",
       "</table>\n",
       "</div>"
      ],
      "text/plain": [
       "                              B5       B4      ndvi\n",
       "2015-01-27 18:28:17.340   7892.0   7397.0  0.032376\n",
       "2015-02-28 18:28:06.520  10835.0   9487.0  0.066332\n",
       "2015-03-16 18:27:55.590  16125.0  12835.0  0.113605\n",
       "2015-04-01 18:27:44.040  14303.0   8713.0  0.242875\n",
       "2015-04-17 18:27:43.020  20016.0  10138.0  0.327585"
      ]
     },
     "execution_count": 76,
     "metadata": {},
     "output_type": "execute_result"
    }
   ],
   "source": [
    "df_landsat8.head()"
   ]
  },
  {
   "cell_type": "code",
   "execution_count": 77,
   "id": "acaa27ff-c5e1-4c5c-ba7d-3673a54fd461",
   "metadata": {},
   "outputs": [],
   "source": [
    "# time-series resampling to monthly\n",
    "m_landsat_ndvi = df_landsat8[['ndvi']].resample('M').mean()"
   ]
  },
  {
   "cell_type": "code",
   "execution_count": 78,
   "id": "d346e5cb-dac6-43d6-872f-c8a4c7c456b5",
   "metadata": {},
   "outputs": [
    {
     "data": {
      "text/html": [
       "<div>\n",
       "<style scoped>\n",
       "    .dataframe tbody tr th:only-of-type {\n",
       "        vertical-align: middle;\n",
       "    }\n",
       "\n",
       "    .dataframe tbody tr th {\n",
       "        vertical-align: top;\n",
       "    }\n",
       "\n",
       "    .dataframe thead th {\n",
       "        text-align: right;\n",
       "    }\n",
       "</style>\n",
       "<table border=\"1\" class=\"dataframe\">\n",
       "  <thead>\n",
       "    <tr style=\"text-align: right;\">\n",
       "      <th></th>\n",
       "      <th>ndvi</th>\n",
       "    </tr>\n",
       "  </thead>\n",
       "  <tbody>\n",
       "    <tr>\n",
       "      <th>2015-01-31</th>\n",
       "      <td>0.117416</td>\n",
       "    </tr>\n",
       "    <tr>\n",
       "      <th>2015-02-28</th>\n",
       "      <td>0.211420</td>\n",
       "    </tr>\n",
       "    <tr>\n",
       "      <th>2015-03-31</th>\n",
       "      <td>0.268434</td>\n",
       "    </tr>\n",
       "    <tr>\n",
       "      <th>2015-04-30</th>\n",
       "      <td>0.225970</td>\n",
       "    </tr>\n",
       "    <tr>\n",
       "      <th>2015-05-31</th>\n",
       "      <td>0.230927</td>\n",
       "    </tr>\n",
       "  </tbody>\n",
       "</table>\n",
       "</div>"
      ],
      "text/plain": [
       "                ndvi\n",
       "2015-01-31  0.117416\n",
       "2015-02-28  0.211420\n",
       "2015-03-31  0.268434\n",
       "2015-04-30  0.225970\n",
       "2015-05-31  0.230927"
      ]
     },
     "execution_count": 78,
     "metadata": {},
     "output_type": "execute_result"
    }
   ],
   "source": [
    "m_landsat_ndvi.head()"
   ]
  },
  {
   "cell_type": "markdown",
   "id": "93b75d00-00a4-4aee-b1e1-78809f90ecdf",
   "metadata": {},
   "source": [
    "### NDVI from PROBAV imagery"
   ]
  },
  {
   "cell_type": "code",
   "execution_count": 53,
   "id": "c357103e-df61-45c3-9e93-acf52718dfcb",
   "metadata": {},
   "outputs": [],
   "source": [
    "probav = ee.ImageCollection('VITO/PROBAV/C1/S1_TOC_100M').filterDate(start_time, end_time).select(['NDVI'])\n",
    "\n",
    "# increasing resolution to 800 to avoid too many values error\n",
    "#     ImageCollection.getRegion: Too many values: 1470 points x 1 bands x 1821 images > 1048576.\n",
    "info_probav = probav.getRegion(polys, 800).getInfo()"
   ]
  },
  {
   "cell_type": "code",
   "execution_count": 54,
   "id": "edab59b1-cfd6-411e-a0db-79df311f2a00",
   "metadata": {},
   "outputs": [
    {
     "data": {
      "text/plain": [
       "1012477"
      ]
     },
     "execution_count": 54,
     "metadata": {},
     "output_type": "execute_result"
    }
   ],
   "source": [
    "len(info_probav)"
   ]
  },
  {
   "cell_type": "code",
   "execution_count": 55,
   "id": "c9e62df0-1603-47c9-bc9b-dc53c0fa71a7",
   "metadata": {},
   "outputs": [],
   "source": [
    "df_probav = convert_to_pandas_df(info_probav, ['NDVI'])"
   ]
  },
  {
   "cell_type": "code",
   "execution_count": 79,
   "id": "aea8d2ed-66e6-4929-a1f8-9fb590c8d095",
   "metadata": {},
   "outputs": [
    {
     "data": {
      "text/html": [
       "<div>\n",
       "<style scoped>\n",
       "    .dataframe tbody tr th:only-of-type {\n",
       "        vertical-align: middle;\n",
       "    }\n",
       "\n",
       "    .dataframe tbody tr th {\n",
       "        vertical-align: top;\n",
       "    }\n",
       "\n",
       "    .dataframe thead th {\n",
       "        text-align: right;\n",
       "    }\n",
       "</style>\n",
       "<table border=\"1\" class=\"dataframe\">\n",
       "  <thead>\n",
       "    <tr style=\"text-align: right;\">\n",
       "      <th></th>\n",
       "      <th>NDVI</th>\n",
       "    </tr>\n",
       "  </thead>\n",
       "  <tbody>\n",
       "    <tr>\n",
       "      <th>2015-01-04</th>\n",
       "      <td>61</td>\n",
       "    </tr>\n",
       "    <tr>\n",
       "      <th>2015-01-08</th>\n",
       "      <td>59</td>\n",
       "    </tr>\n",
       "    <tr>\n",
       "      <th>2015-01-13</th>\n",
       "      <td>57</td>\n",
       "    </tr>\n",
       "    <tr>\n",
       "      <th>2015-01-17</th>\n",
       "      <td>26</td>\n",
       "    </tr>\n",
       "    <tr>\n",
       "      <th>2015-01-22</th>\n",
       "      <td>37</td>\n",
       "    </tr>\n",
       "  </tbody>\n",
       "</table>\n",
       "</div>"
      ],
      "text/plain": [
       "           NDVI\n",
       "2015-01-04   61\n",
       "2015-01-08   59\n",
       "2015-01-13   57\n",
       "2015-01-17   26\n",
       "2015-01-22   37"
      ]
     },
     "execution_count": 79,
     "metadata": {},
     "output_type": "execute_result"
    }
   ],
   "source": [
    "df_probav.head()"
   ]
  },
  {
   "cell_type": "code",
   "execution_count": 80,
   "id": "f319c79c-fd1d-47d5-b1ce-505b4857364e",
   "metadata": {},
   "outputs": [
    {
     "data": {
      "text/html": [
       "<div>\n",
       "<style scoped>\n",
       "    .dataframe tbody tr th:only-of-type {\n",
       "        vertical-align: middle;\n",
       "    }\n",
       "\n",
       "    .dataframe tbody tr th {\n",
       "        vertical-align: top;\n",
       "    }\n",
       "\n",
       "    .dataframe thead th {\n",
       "        text-align: right;\n",
       "    }\n",
       "</style>\n",
       "<table border=\"1\" class=\"dataframe\">\n",
       "  <thead>\n",
       "    <tr style=\"text-align: right;\">\n",
       "      <th></th>\n",
       "      <th>NDVI</th>\n",
       "    </tr>\n",
       "  </thead>\n",
       "  <tbody>\n",
       "    <tr>\n",
       "      <th>2015-01-31</th>\n",
       "      <td>85.028777</td>\n",
       "    </tr>\n",
       "    <tr>\n",
       "      <th>2015-02-28</th>\n",
       "      <td>136.938786</td>\n",
       "    </tr>\n",
       "    <tr>\n",
       "      <th>2015-03-31</th>\n",
       "      <td>134.156475</td>\n",
       "    </tr>\n",
       "    <tr>\n",
       "      <th>2015-04-30</th>\n",
       "      <td>123.315789</td>\n",
       "    </tr>\n",
       "    <tr>\n",
       "      <th>2015-05-31</th>\n",
       "      <td>89.493063</td>\n",
       "    </tr>\n",
       "  </tbody>\n",
       "</table>\n",
       "</div>"
      ],
      "text/plain": [
       "                  NDVI\n",
       "2015-01-31   85.028777\n",
       "2015-02-28  136.938786\n",
       "2015-03-31  134.156475\n",
       "2015-04-30  123.315789\n",
       "2015-05-31   89.493063"
      ]
     },
     "execution_count": 80,
     "metadata": {},
     "output_type": "execute_result"
    }
   ],
   "source": [
    "# time-series resampling to monthly\n",
    "m_probav_ndvi = df_probav[['NDVI']].resample('M').mean()\n",
    "m_probav_ndvi.head()"
   ]
  },
  {
   "cell_type": "markdown",
   "id": "e6f3c8e8-3212-47f0-af55-75252b78d0a4",
   "metadata": {},
   "source": [
    "### Precipitation from CHIRPS imagery"
   ]
  },
  {
   "cell_type": "code",
   "execution_count": 81,
   "id": "844f378b-f0b7-42ec-ae67-6b0707770c72",
   "metadata": {},
   "outputs": [],
   "source": [
    "precipitation = ee.ImageCollection('UCSB-CHG/CHIRPS/PENTAD').filterDate(start_time, end_time)\n",
    "\n",
    "info_chirps = precipitation.getRegion(polys, 500).getInfo()"
   ]
  },
  {
   "cell_type": "code",
   "execution_count": 82,
   "id": "3029961c-dc01-45b6-9fbb-e79a3f525ea3",
   "metadata": {},
   "outputs": [
    {
     "data": {
      "text/plain": [
       "527401"
      ]
     },
     "execution_count": 82,
     "metadata": {},
     "output_type": "execute_result"
    }
   ],
   "source": [
    "len(info_chirps)"
   ]
  },
  {
   "cell_type": "code",
   "execution_count": 83,
   "id": "8fd99630-e2ab-4213-b599-7f03523c16cd",
   "metadata": {},
   "outputs": [
    {
     "data": {
      "text/plain": [
       "[['id', 'longitude', 'latitude', 'time', 'precipitation'],\n",
       " ['20150101',\n",
       "  -119.2311418729738,\n",
       "  35.157814432227774,\n",
       "  1420070400000,\n",
       "  0.5979218482971191]]"
      ]
     },
     "execution_count": 83,
     "metadata": {},
     "output_type": "execute_result"
    }
   ],
   "source": [
    "info_chirps[:2]"
   ]
  },
  {
   "cell_type": "code",
   "execution_count": 84,
   "id": "53dd8a13-2f0b-42ae-b401-03ac30eadfa3",
   "metadata": {},
   "outputs": [
    {
     "data": {
      "text/html": [
       "<div>\n",
       "<style scoped>\n",
       "    .dataframe tbody tr th:only-of-type {\n",
       "        vertical-align: middle;\n",
       "    }\n",
       "\n",
       "    .dataframe tbody tr th {\n",
       "        vertical-align: top;\n",
       "    }\n",
       "\n",
       "    .dataframe thead th {\n",
       "        text-align: right;\n",
       "    }\n",
       "</style>\n",
       "<table border=\"1\" class=\"dataframe\">\n",
       "  <thead>\n",
       "    <tr style=\"text-align: right;\">\n",
       "      <th></th>\n",
       "      <th>precipitation</th>\n",
       "    </tr>\n",
       "  </thead>\n",
       "  <tbody>\n",
       "    <tr>\n",
       "      <th>2015-01-01</th>\n",
       "      <td>0.597922</td>\n",
       "    </tr>\n",
       "    <tr>\n",
       "      <th>2015-01-06</th>\n",
       "      <td>0.676069</td>\n",
       "    </tr>\n",
       "    <tr>\n",
       "      <th>2015-01-11</th>\n",
       "      <td>8.741220</td>\n",
       "    </tr>\n",
       "    <tr>\n",
       "      <th>2015-01-16</th>\n",
       "      <td>2.124831</td>\n",
       "    </tr>\n",
       "    <tr>\n",
       "      <th>2015-01-21</th>\n",
       "      <td>0.839010</td>\n",
       "    </tr>\n",
       "  </tbody>\n",
       "</table>\n",
       "</div>"
      ],
      "text/plain": [
       "            precipitation\n",
       "2015-01-01       0.597922\n",
       "2015-01-06       0.676069\n",
       "2015-01-11       8.741220\n",
       "2015-01-16       2.124831\n",
       "2015-01-21       0.839010"
      ]
     },
     "execution_count": 84,
     "metadata": {},
     "output_type": "execute_result"
    }
   ],
   "source": [
    "df_prcptn = convert_to_pandas_df(info_chirps, ['precipitation'])\n",
    "df_prcptn['precipitation'] = df_prcptn['precipitation'].astype(np.float)\n",
    "\n",
    "df_prcptn.head()"
   ]
  },
  {
   "cell_type": "code",
   "execution_count": 92,
   "id": "b1ce9ab9-ea56-40a0-8551-440d84ed852f",
   "metadata": {},
   "outputs": [
    {
     "data": {
      "text/html": [
       "<div>\n",
       "<style scoped>\n",
       "    .dataframe tbody tr th:only-of-type {\n",
       "        vertical-align: middle;\n",
       "    }\n",
       "\n",
       "    .dataframe tbody tr th {\n",
       "        vertical-align: top;\n",
       "    }\n",
       "\n",
       "    .dataframe thead th {\n",
       "        text-align: right;\n",
       "    }\n",
       "</style>\n",
       "<table border=\"1\" class=\"dataframe\">\n",
       "  <thead>\n",
       "    <tr style=\"text-align: right;\">\n",
       "      <th></th>\n",
       "      <th>precipitation</th>\n",
       "    </tr>\n",
       "  </thead>\n",
       "  <tbody>\n",
       "    <tr>\n",
       "      <th>2015-01-31</th>\n",
       "      <td>5.645263</td>\n",
       "    </tr>\n",
       "    <tr>\n",
       "      <th>2015-02-28</th>\n",
       "      <td>3.489468</td>\n",
       "    </tr>\n",
       "    <tr>\n",
       "      <th>2015-03-31</th>\n",
       "      <td>3.336113</td>\n",
       "    </tr>\n",
       "    <tr>\n",
       "      <th>2015-04-30</th>\n",
       "      <td>1.498981</td>\n",
       "    </tr>\n",
       "    <tr>\n",
       "      <th>2015-05-31</th>\n",
       "      <td>0.776080</td>\n",
       "    </tr>\n",
       "  </tbody>\n",
       "</table>\n",
       "</div>"
      ],
      "text/plain": [
       "            precipitation\n",
       "2015-01-31       5.645263\n",
       "2015-02-28       3.489468\n",
       "2015-03-31       3.336113\n",
       "2015-04-30       1.498981\n",
       "2015-05-31       0.776080"
      ]
     },
     "execution_count": 92,
     "metadata": {},
     "output_type": "execute_result"
    }
   ],
   "source": [
    "# time-series resampling to monthly\n",
    "m_prcptn = df_prcptn[['precipitation']].resample('M').mean()\n",
    "m_prcptn.head()"
   ]
  },
  {
   "cell_type": "code",
   "execution_count": 90,
   "id": "47bf1e91-1410-4248-882c-345ae1fbbb89",
   "metadata": {},
   "outputs": [
    {
     "data": {
      "text/plain": [
       "Text(0.5, 1.0, 'Probav NDVI')"
      ]
     },
     "execution_count": 90,
     "metadata": {},
     "output_type": "execute_result"
    },
    {
     "data": {
      "image/png": "[encoded data removed]",
      "text/plain": [
       "<Figure size 1080x432 with 1 Axes>"
      ]
     },
     "metadata": {},
     "output_type": "display_data"
    }
   ],
   "source": [
    "sns.set(rc={'figure.figsize':(15, 6)})\n",
    "df_probav.plot(linewidth=1.2)\n",
    "plt.title('Probav NDVI')"
   ]
  },
  {
   "cell_type": "code",
   "execution_count": 91,
   "id": "cac406f9-8618-4256-8258-6dcc6cd85ab4",
   "metadata": {},
   "outputs": [
    {
     "data": {
      "text/plain": [
       "Text(0.5, 1.0, 'Monthly')"
      ]
     },
     "execution_count": 91,
     "metadata": {},
     "output_type": "execute_result"
    },
    {
     "data": {
      "image/png": "[encoded data removed]",
      "text/plain": [
       "<Figure size 1080x432 with 1 Axes>"
      ]
     },
     "metadata": {},
     "output_type": "display_data"
    }
   ],
   "source": [
    "plt.plot(m_probav_ndvi['NDVI'], linewidth=1.2)\n",
    "plt.title('Monthly')"
   ]
  },
  {
   "cell_type": "markdown",
   "id": "5ecd97ac-0d66-4c0a-8417-da0a00174e19",
   "metadata": {},
   "source": [
    "## Combine data"
   ]
  },
  {
   "cell_type": "code",
   "execution_count": 98,
   "id": "5374aec1-cb7a-4f09-b01c-306862a53715",
   "metadata": {},
   "outputs": [],
   "source": [
    "monthly = pd.DataFrame({'landsat_ndvi': m_landsat_ndvi['ndvi'],\n",
    "                        'chirps_prcptn': m_prcptn['precipitation'],\n",
    "                        'probav_ndvi': m_probav_ndvi['NDVI']\n",
    "                       },\n",
    "                       index = m_prcptn.index)"
   ]
  },
  {
   "cell_type": "code",
   "execution_count": 97,
   "id": "708fc009-3f6c-431b-8b85-0d59401adccb",
   "metadata": {},
   "outputs": [
    {
     "data": {
      "text/html": [
       "<div>\n",
       "<style scoped>\n",
       "    .dataframe tbody tr th:only-of-type {\n",
       "        vertical-align: middle;\n",
       "    }\n",
       "\n",
       "    .dataframe tbody tr th {\n",
       "        vertical-align: top;\n",
       "    }\n",
       "\n",
       "    .dataframe thead th {\n",
       "        text-align: right;\n",
       "    }\n",
       "</style>\n",
       "<table border=\"1\" class=\"dataframe\">\n",
       "  <thead>\n",
       "    <tr style=\"text-align: right;\">\n",
       "      <th></th>\n",
       "      <th>landsat_ndvi</th>\n",
       "      <th>chirps_prcptn</th>\n",
       "      <th>probav_ndvi</th>\n",
       "    </tr>\n",
       "  </thead>\n",
       "  <tbody>\n",
       "    <tr>\n",
       "      <th>2015-01-31</th>\n",
       "      <td>0.117416</td>\n",
       "      <td>5.645263</td>\n",
       "      <td>85.028777</td>\n",
       "    </tr>\n",
       "    <tr>\n",
       "      <th>2015-02-28</th>\n",
       "      <td>0.211420</td>\n",
       "      <td>3.489468</td>\n",
       "      <td>136.938786</td>\n",
       "    </tr>\n",
       "    <tr>\n",
       "      <th>2015-03-31</th>\n",
       "      <td>0.268434</td>\n",
       "      <td>3.336113</td>\n",
       "      <td>134.156475</td>\n",
       "    </tr>\n",
       "    <tr>\n",
       "      <th>2015-04-30</th>\n",
       "      <td>0.225970</td>\n",
       "      <td>1.498981</td>\n",
       "      <td>123.315789</td>\n",
       "    </tr>\n",
       "    <tr>\n",
       "      <th>2015-05-31</th>\n",
       "      <td>0.230927</td>\n",
       "      <td>0.776080</td>\n",
       "      <td>89.493063</td>\n",
       "    </tr>\n",
       "  </tbody>\n",
       "</table>\n",
       "</div>"
      ],
      "text/plain": [
       "            landsat_ndvi  chirps_prcptn  probav_ndvi\n",
       "2015-01-31      0.117416       5.645263    85.028777\n",
       "2015-02-28      0.211420       3.489468   136.938786\n",
       "2015-03-31      0.268434       3.336113   134.156475\n",
       "2015-04-30      0.225970       1.498981   123.315789\n",
       "2015-05-31      0.230927       0.776080    89.493063"
      ]
     },
     "execution_count": 97,
     "metadata": {},
     "output_type": "execute_result"
    }
   ],
   "source": [
    "monthly.head()"
   ]
  }
 ],
 "metadata": {
  "environment": {
   "kernel": "geo",
   "name": "tf2-gpu.2-7.m87",
   "type": "gcloud",
   "uri": "gcr.io/deeplearning-platform-release/tf2-gpu.2-7:m87"
  },
  "kernelspec": {
   "display_name": "geo",
   "language": "python",
   "name": "geo"
  },
  "language_info": {
   "codemirror_mode": {
    "name": "ipython",
    "version": 3
   },
   "file_extension": ".py",
   "mimetype": "text/x-python",
   "name": "python",
   "nbconvert_exporter": "python",
   "pygments_lexer": "ipython3",
   "version": "3.7.12"
  }
 },
 "nbformat": 4,
 "nbformat_minor": 5
}
